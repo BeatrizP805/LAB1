{
  "nbformat": 4,
  "nbformat_minor": 0,
  "metadata": {
    "colab": {
      "provenance": []
    },
    "kernelspec": {
      "name": "python3",
      "display_name": "Python 3"
    },
    "language_info": {
      "name": "python"
    }
  },
  "cells": [
    {
      "cell_type": "markdown",
      "source": [],
      "metadata": {
        "id": "s6jzUa9B6-62"
      }
    },
    {
      "cell_type": "code",
      "source": [],
      "metadata": {
        "id": "AKM_Iecr7CcG"
      },
      "execution_count": null,
      "outputs": []
    },
    {
      "cell_type": "markdown",
      "source": [],
      "metadata": {
        "id": "4Kcsc1Id7L5N"
      }
    },
    {
      "cell_type": "markdown",
      "source": [
        "# Title\n",
        "Physiological Instrumentation"
      ],
      "metadata": {
        "id": "wKAQoevb7Of7"
      }
    },
    {
      "cell_type": "markdown",
      "source": [
        "# Purpose\n",
        "Familiarize ourselves with equipment."
      ],
      "metadata": {
        "id": "ZtUthiZF7jZD"
      }
    },
    {
      "cell_type": "markdown",
      "source": [
        "# Procedure\n",
        "1. Become familiar with the basic metric units of measure.\n",
        "2.Learn the basic unit of each measurement.\n",
        "3. Understand the significance of the prefixes of each unit.\n",
        "4. Complete the worksheet on page 6 using the following information."
      ],
      "metadata": {
        "id": "tnAVx5We7EHa"
      }
    },
    {
      "cell_type": "markdown",
      "source": [
        "# Results\n",
        "Linear Measurements\n",
        "1. State the length of your lecture text: 270 mm, 27 cm\n",
        "2. State the width of your lecture text: 205 mm, 20.5 cm\n",
        "3. State the depth of your lecture text: 15 mm, 1.5 cm\n",
        "\n",
        "Volume Measurements\n",
        "1. Pour some water in the beaker and state the volume:\n",
        "100 ml 0.1 liters (l)\n",
        "2. Pour the water from the beaker into a graduated cylinder and state the volume:93 ml 0.093 liters\n",
        "\n",
        "Mass Measurements\n",
        "1. State the mass of the weight: 90360 mg 90.36 g\n",
        "2. Pour some water into the beaker and state the mass of the liquid in the beaker: 90360 mg 90.36 g\n",
        "\n",
        "pH Measurements\n",
        "1. State the pH of the liquid in container “A”: 5\n",
        "2. State the pH of the liquid in container “B”: 8\n",
        "3. State the pH of the liquid in container “C”: 9\n",
        "\n",
        "Time Measurements\n",
        "1. Determine your pulse rate after 15 seconds: 19 beats/second\n",
        "76 beats/ minute\n",
        "2. Determine your pulse rate after 60 seconds:\n",
        "70 beats/ minute\n",
        "1.16 beats/ second\n",
        "0.07 beats/ millisecond"
      ],
      "metadata": {
        "id": "UNMOnimY7XEz"
      }
    },
    {
      "cell_type": "code",
      "source": [],
      "metadata": {
        "id": "IV9_yuZ_7cpV"
      },
      "execution_count": null,
      "outputs": []
    },
    {
      "cell_type": "markdown",
      "source": [],
      "metadata": {
        "id": "gGde7WL3997T"
      }
    },
    {
      "cell_type": "markdown",
      "source": [
        "# Discussion\n",
        "Understanding the different types of the measuring systemt.\n",
        "\n",
        "# Conclusion\n",
        "Learning the measuring system helped me identify the difference in ml, liters, milliseconds, and many more."
      ],
      "metadata": {
        "id": "SHBJmrnM9-Ab"
      }
    },
    {
      "cell_type": "code",
      "source": [],
      "metadata": {
        "id": "EBItI7ms-5K3"
      },
      "execution_count": null,
      "outputs": []
    }
  ]
}